{
  "nbformat": 4,
  "nbformat_minor": 0,
  "metadata": {
    "colab": {
      "name": "lab1.ipynb",
      "provenance": [],
      "collapsed_sections": [],
      "toc_visible": true,
      "include_colab_link": true
    },
    "kernelspec": {
      "name": "python3",
      "display_name": "Python 3"
    }
  },
  "cells": [
    {
      "cell_type": "markdown",
      "metadata": {
        "id": "view-in-github",
        "colab_type": "text"
      },
      "source": [
        "<a href=\"https://colab.research.google.com/github/mdelrosa/eec206-lab1/blob/master/lab1.ipynb\" target=\"_parent\"><img src=\"https://colab.research.google.com/assets/colab-badge.svg\" alt=\"Open In Colab\"/></a>"
      ]
    },
    {
      "cell_type": "markdown",
      "metadata": {
        "id": "3MlYmqbJI4sk",
        "colab_type": "text"
      },
      "source": [
        "# EEC206: Lab #1\n",
        "**Group 2: Neil Arakkal, Mason del Rosario**\n",
        "\n",
        "Notebook for [Lab #1](https://canvas.ucdavis.edu/courses/442005/assignments/453054), image component clustering algorithm. From the assignment statement,\n",
        "\n",
        "> For this assignment, write a simple python function out_img, n = ccGroup(in_img) where in_img is a grayscale image (255 is considered to be white and all other levels are considered to be black), n is the number of clusters, and out_img is a grayscale image with different objects at different well-separated gray levels.\n",
        "\n",
        "\n",
        "\n"
      ]
    },
    {
      "cell_type": "markdown",
      "metadata": {
        "id": "cgbmz71ZgpQ2",
        "colab_type": "text"
      },
      "source": [
        "## Step 0: Import needed routinies\n"
      ]
    },
    {
      "cell_type": "code",
      "metadata": {
        "id": "b2zuYKdkKnvu",
        "colab_type": "code",
        "colab": {}
      },
      "source": [
        "# for inline image display inside notebook\n",
        "# % matplotlib inline \n",
        "import numpy as np\n",
        "import matplotlib.image as mpimg\n",
        "import matplotlib.cm as cm\n",
        "import matplotlib.pyplot as plt\n",
        "import sys\n",
        "import time"
      ],
      "execution_count": 0,
      "outputs": []
    },
    {
      "cell_type": "markdown",
      "metadata": {
        "id": "Ys9yUGMiijwF",
        "colab_type": "text"
      },
      "source": [
        "## Step 1: Define classes for image loading, segmentation, and timing\n",
        "\n",
        "Define the following classes:\n",
        "- `ImageLoader` loads, flattens, describes images\n",
        "- `Timer` keeps track of times for segments of algorithm\n",
        "- `ImageSegmenter` performs image segmentation recursively\n",
        "  -"
      ]
    },
    {
      "cell_type": "code",
      "metadata": {
        "id": "3cu-ufx8jnCM",
        "colab_type": "code",
        "colab": {}
      },
      "source": [
        "class ImageLoader():\n",
        "  def __init__(self,img_name):\n",
        "    self.img_name = img_name \n",
        "    self.img = mpimg.imread(img_name)\n",
        "    # print(self.img)\n",
        "    try:\n",
        "      self.n_row, self.n_col, self.n_chan = self.img.shape\n",
        "      thresh = 1 if self.n_chan == 4 else 255/8 # blobs image has grey vals\n",
        "      self.flatten_img(thresh=thresh)\n",
        "    except ValueError: # if number of channels not defined\n",
        "      self.n_row, self.n_col = self.img.shape\n",
        "      flat_img = np.zeros((self.n_row, self.n_col))\n",
        "      for row in range(self.n_row):\n",
        "        for col in range(self.n_col):\n",
        "          val = self.img[row,col]\n",
        "          flat_img[row,col] = 255 if val > 0 else 0\n",
        "      self.img = flat_img\n",
        "\n",
        "  def desc_img(self):\n",
        "    \"\"\"\n",
        "    : Give some basic details about image\n",
        "    \"\"\"\n",
        "    print(\"Image shape={} - Data Type={} - Image Obj Type={}\".format(self.img.shape, self.img.dtype, type(self.img)))      # this image contains an α channel, hence num_channels= 4\n",
        "\n",
        "  def flatten_img(self,thresh=1):\n",
        "    \"\"\"\n",
        "    : Convert multi-channel image to greyscale\n",
        "    \"\"\"\n",
        "    flat_img = np.zeros((self.n_row, self.n_col))\n",
        "    for row in range(self.n_row):\n",
        "      for col in range(self.n_col):\n",
        "          val = self.img[row,col,0]\n",
        "          flat_img[row,col] = 255 if val > thresh else 0\n",
        "          # val = np.mean(self.img[row,col,:]) \n",
        "    self.img = flat_img\n",
        "\n",
        "# timer class for timing projecting time-to-finish\n",
        "class Timer(object):\n",
        "    def __init__(self,name=None):\n",
        "        self.name = name\n",
        "        self.finished = 0\n",
        "        self.times = []\n",
        "    \n",
        "    def __enter__(self):\n",
        "        self.tstart = time.time()\n",
        "    \n",
        "    def __exit__(self, type, value, traceback):\n",
        "        self.finished = self.finished + 1\n",
        "        self.elapsed = time.time() - self.tstart\n",
        "        self.times.append(self.elapsed)\n",
        "        print('--- {} -> Time Elapsed: {:5.2f} seconds for {} segments ---'.format(self.name,np.sum(self.times),self.finished))\n",
        "    \n",
        "    def get_times(self):\n",
        "        return self.times\n",
        "\n",
        "class ImageSegmenter():\n",
        "  def __init__(self,img):\n",
        "    self.img = img\n",
        "    self.n_row, self.n_col = self.img.shape\n",
        "    self.timer = Timer(\"Segment Timer\")\n",
        "\n",
        "  def desc_img(self):\n",
        "    \"\"\"\n",
        "    : Give some basic details about image\n",
        "    \"\"\"\n",
        "    print(\"Image shape={} - Data Type={} - Image Obj Type={}\".format(self.img.shape, self.img.dtype, type(self.img)))      # this image contains an α channel, hence num_channels= 4\n",
        "\n",
        "  def plot_img(self,size=(10,10),plot_seg_bool=False):\n",
        "    \"\"\"\n",
        "    : Plot target image with size option\n",
        "    : Input image by default, segmented image if \n",
        "    \"\"\"\n",
        "    if plot_seg_bool:\n",
        "      target = self.seg_img\n",
        "    else:\n",
        "      target = self.img\n",
        "    plt.figure(figsize=(5,5))\n",
        "    plt.imshow(target, cmap=cm.gray, vmin=0, vmax=255) # display the image\n",
        "    plt.axis('off')\n",
        "    plt.show()\n",
        "\n",
        "  def segment_img(self):\n",
        "    \"\"\"\n",
        "    : TO-DO: Perform image segmentation\n",
        "    \"\"\"\n",
        "    self.get_white_ind()\n",
        "    print(\"Number of pixels in segments: {}\".format(len(self.white_ind)))\n",
        "    self.group_white_ind()\n",
        "    print(\"Number of segments: {}\".format(self.n_groups))\n",
        "    print(\"Average segment time: {:5.2f} seconds\".format(np.mean(self.timer.times)))\n",
        "    self.render_segmented_img()\n",
        "    # self.seg_img = self.img # for now, store img in seg_img attribute\n",
        "\n",
        "  def get_white_ind(self):\n",
        "    \"\"\"\n",
        "    : Get indices of all pixels in segments (i.e., white pixels)\n",
        "    \"\"\"\n",
        "    self.white_ind = []\n",
        "    for row in range(self.n_row):\n",
        "      for col in range(self.n_col):\n",
        "        if self.img[row,col]==255:\n",
        "          self.white_ind.append((row,col))\n",
        "    \n",
        "  def group_white_ind(self):\n",
        "    \"\"\"\n",
        "    : Group white pixels and assign group numbers\n",
        "    \"\"\"\n",
        "    self.n_groups = 0\n",
        "    self.group_nums = np.zeros(len(self.white_ind)) # keep track of group numbers for each white pixel\n",
        "    for i in range(len(self.white_ind)):\n",
        "      # print(\"i: {} - {}\".format(i,self.group_nums))\n",
        "      if (self.group_nums[i] == 0): \n",
        "        with self.timer:\n",
        "          self.n_groups += 1 \n",
        "          self.group_nums[i] = self.n_groups \n",
        "          # self.check_neighbors(self.white_ind[i],self.n_groups)\n",
        "          self.check_neighbors(self.white_ind[i])\n",
        "\n",
        "  def check_neighbors(self,pixel_ind):\n",
        "    \"\"\"\n",
        "    : Recursively check 8-adjacent pixels within a segment\n",
        "    \"\"\"\n",
        "    row, col = pixel_ind\n",
        "    #print('current pixel_ind=({},{})'.format(row,col))\n",
        "    test_pixels = []\n",
        "    for next_row in range(-1,2):\n",
        "      for next_col in range(-1,2):\n",
        "        if (not(next_row==0 and next_col==0)): # don't check current pixel\n",
        "          test_pixels.append((row+next_row,col+next_col))\n",
        "    test_indices = [white_index for white_index, white_pix in enumerate(self.white_ind) if white_pix in test_pixels]\n",
        "    # print('test_pixels: {}'.format(test_pixels))\n",
        "    # print('test_indices: {}'.format(test_indices))\n",
        "    for white_index in test_indices:\n",
        "      if self.group_nums[white_index] == 0: # if adjacent pixel is 0, we set it and check its neighbors\n",
        "        self.group_nums[white_index] = self.n_groups\n",
        "        self.check_neighbors(self.white_ind[white_index])  \n",
        "\n",
        "  def render_segmented_img(self):\n",
        "    \"\"\"\n",
        "    : Given white pixel indices and group numbers, construct np array for \n",
        "    : segmented image\n",
        "    \"\"\"\n",
        "    self.seg_img = np.zeros((self.n_row,self.n_col))\n",
        "    divs = self.n_groups+1 # we want (# of segments+1) color divisions including black\n",
        "    for i in range(len(self.white_ind)):\n",
        "      white_row, white_col = self.white_ind[i]\n",
        "      self.seg_img[white_row, white_col] = int(255*(divs-self.group_nums[i])/divs)\n"
      ],
      "execution_count": 0,
      "outputs": []
    },
    {
      "cell_type": "markdown",
      "metadata": {
        "id": "LYj-k4XbbBtx",
        "colab_type": "text"
      },
      "source": [
        "## Step 2: Define function wrapper to call class\n",
        "\n",
        "Lab calls for `function out_img, n = ccGroup(in_img)`, so have `ccGroup` call the `ImageSegmenter` class."
      ]
    },
    {
      "cell_type": "code",
      "metadata": {
        "id": "n9IvOrWha-1f",
        "colab_type": "code",
        "colab": {}
      },
      "source": [
        "def ccGroup(in_img):\n",
        "  img_segmenter = ImageSegmenter(in_img)\n",
        "  img_segmenter.desc_img()\n",
        "  img_segmenter.plot_img() # plot input imagefhcfhc\n",
        "  img_segmenter.segment_img()\n",
        "  img_segmenter.plot_img(plot_seg_bool=True) # plot segmented image\n",
        "  return img_segmenter.seg_img, img_segmenter.n_groups"
      ],
      "execution_count": 0,
      "outputs": []
    },
    {
      "cell_type": "markdown",
      "metadata": {
        "id": "1IcpjE1OywEI",
        "colab_type": "text"
      },
      "source": [
        "## Step 3: Load, flatten, and segment image\n",
        "\n",
        "- [B+W Crosses](https://canvas.ucdavis.edu/courses/442005/files?preview=8295370)\n",
        "- [Shapes](https://clouard.users.greyc.fr/Pantheon/experiments/morphology/fillholebin.png)\n",
        "  - Initially resulted in `Recursion Error`. Works after `sys.setrecursionlimit(10**6)` call before `ccGroup()`.\n",
        "- [Blobs (Takes a while)](https://imagejdocu.tudor.lu/_media/plugin/segmentation/thresholding_by_connection/blobs_connected.jpeg?cache=)\n",
        "  - Image had grey values instead of strictly black/white. Required adding a `threshold` to the `ImageLoader.flatten()` method.\n",
        "\n",
        "**Unvalidated images**\n",
        "- [Cells](https://answers.opencv.org/upfiles/14295789404341916.jpg)\n",
        "  - Larger image (1040, 1388). Timeout after ~20 minutes."
      ]
    },
    {
      "cell_type": "code",
      "metadata": {
        "id": "8SkKFgx2ynwt",
        "colab_type": "code",
        "outputId": "66458ed2-65bb-420a-ea8e-1119b90988ac",
        "colab": {
          "resources": {
            "http://localhost:8080/nbextensions/google.colab/files.js": {
              "data": "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",
              "ok": true,
              "headers": [
                [
                  "content-type",
                  "application/javascript"
                ]
              ],
              "status": 200,
              "status_text": ""
            }
          },
          "base_uri": "https://localhost:8080/",
          "height": 75
        }
      },
      "source": [
        "# img_name = \"proj1-bw.gif\"\n",
        "from google.colab import files\n",
        "np.set_printoptions(threshold=sys.maxsize)\n",
        "uploaded = files.upload()\n",
        "for key, value in uploaded.items():\n",
        "  img_name = key  \n",
        "img_loader = ImageLoader(img_name)"
      ],
      "execution_count": 9,
      "outputs": [
        {
          "output_type": "display_data",
          "data": {
            "text/html": [
              "\n",
              "     <input type=\"file\" id=\"files-a2dfd20e-84ad-42ea-9db6-c7e3fe9dee5c\" name=\"files[]\" multiple disabled />\n",
              "     <output id=\"result-a2dfd20e-84ad-42ea-9db6-c7e3fe9dee5c\">\n",
              "      Upload widget is only available when the cell has been executed in the\n",
              "      current browser session. Please rerun this cell to enable.\n",
              "      </output>\n",
              "      <script src=\"/nbextensions/google.colab/files.js\"></script> "
            ],
            "text/plain": [
              "<IPython.core.display.HTML object>"
            ]
          },
          "metadata": {
            "tags": []
          }
        },
        {
          "output_type": "stream",
          "text": [
            "Saving shapes.png to shapes (3).png\n"
          ],
          "name": "stdout"
        }
      ]
    },
    {
      "cell_type": "code",
      "metadata": {
        "id": "NFbmLHIDdtrS",
        "colab_type": "code",
        "outputId": "e4a23449-357f-4eda-90c2-8641ce6db07b",
        "colab": {
          "base_uri": "https://localhost:8080/",
          "height": 807
        }
      },
      "source": [
        "sys.setrecursionlimit(10**6) # increase allowable recursion depth\n",
        "out_img, n = ccGroup(img_loader.img)"
      ],
      "execution_count": 10,
      "outputs": [
        {
          "output_type": "stream",
          "text": [
            "Image shape=(256, 256) - Data Type=float64 - Image Obj Type=<class 'numpy.ndarray'>\n"
          ],
          "name": "stdout"
        },
        {
          "output_type": "display_data",
          "data": {
            "image/png": "[encoded data removed]",
            "text/plain": [
              "<Figure size 360x360 with 1 Axes>"
            ]
          },
          "metadata": {
            "tags": [],
            "needs_background": "light"
          }
        },
        {
          "output_type": "stream",
          "text": [
            "Number of pixels in segments: 8831\n",
            "--- Segment Timer -> Time Elapsed:  1.00 seconds for 1 segments ---\n",
            "--- Segment Timer -> Time Elapsed:  3.04 seconds for 2 segments ---\n",
            "--- Segment Timer -> Time Elapsed:  4.99 seconds for 3 segments ---\n",
            "--- Segment Timer -> Time Elapsed:  5.99 seconds for 4 segments ---\n",
            "--- Segment Timer -> Time Elapsed:  7.94 seconds for 5 segments ---\n",
            "--- Segment Timer -> Time Elapsed:  9.85 seconds for 6 segments ---\n",
            "--- Segment Timer -> Time Elapsed: 13.79 seconds for 7 segments ---\n",
            "--- Segment Timer -> Time Elapsed: 17.57 seconds for 8 segments ---\n",
            "Number of segments: 8\n",
            "Average segment time:  2.20 seconds\n"
          ],
          "name": "stdout"
        },
        {
          "output_type": "display_data",
          "data": {
            "image/png": "[encoded data removed]",
            "text/plain": [
              "<Figure size 360x360 with 1 Axes>"
            ]
          },
          "metadata": {
            "tags": [],
            "needs_background": "light"
          }
        }
      ]
    },
    {
      "cell_type": "markdown",
      "metadata": {
        "id": "ph83Yn7y9DGl",
        "colab_type": "text"
      },
      "source": [
        "## Results\n",
        "\n",
        "| Image       | Total Time    | Avg. Segment Time    | # Segments |\n",
        "|:-----------:|:-------------:|:--------------------:|:----------:|\n",
        "| B+W Crosses | 6.25s         | 0.78s                | 8          |\n",
        "| Shapes      | 17.56s        | 2.20s                | 8          |\n",
        "| Blobs       | 139.51s       | 2.01s                | 68         |\n",
        "\n"
      ]
    }
  ]
}